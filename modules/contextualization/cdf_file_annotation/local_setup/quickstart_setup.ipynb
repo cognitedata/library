{
 "cells": [
  {
   "cell_type": "code",
   "execution_count": null,
   "id": "2912d9c0",
   "metadata": {},
   "outputs": [],
   "source": [
    "import os\n",
    "\n",
    "from dotenv import load_dotenv\n",
    "from cognite.client import CogniteClient, ClientConfig\n",
    "from cognite.client.credentials import OAuthClientCredentials\n",
    "from dataclasses import dataclass\n",
    "\n",
    "from cognite.client.data_classes.data_modeling import (\n",
    "    Node,\n",
    "    NodeList,\n",
    "    NodeApplyList,\n",
    "    ViewId,\n",
    ")"
   ]
  },
  {
   "cell_type": "code",
   "execution_count": null,
   "id": "41f474ec",
   "metadata": {},
   "outputs": [],
   "source": [
    "def create_client(cdf_project, cdf_cluster, client_id, client_secret, tenant_id, debug: bool = False):\n",
    "    SCOPES = [f\"https://{cdf_cluster}.cognitedata.com/.default\"]\n",
    "    TOKEN_URL = (\n",
    "        f\"https://login.microsoftonline.com/{tenant_id}/oauth2/v2.0/token\"\n",
    "    )\n",
    "    creds = OAuthClientCredentials(\n",
    "        token_url=TOKEN_URL,\n",
    "        client_id=client_id,\n",
    "        client_secret=client_secret,\n",
    "        scopes=SCOPES,\n",
    "    )\n",
    "    cnf = ClientConfig(\n",
    "        client_name=\"DEV_Working\",\n",
    "        project=cdf_project,\n",
    "        base_url=f\"https://{cdf_cluster}.cognitedata.com\",  # NOTE: base_url might need to be adjusted if on PSAAS or Private Link\n",
    "        credentials=creds,\n",
    "        debug=debug,\n",
    "    )\n",
    "    client = CogniteClient(cnf)\n",
    "    return client"
   ]
  },
  {
   "cell_type": "code",
   "execution_count": null,
   "id": "86a64bb6",
   "metadata": {},
   "outputs": [],
   "source": [
    "# Configuration Classes\n",
    "@dataclass\n",
    "class ViewPropertyConfig:\n",
    "    schema_space: str\n",
    "    external_id: str\n",
    "    version: str\n",
    "    instance_space: str | None = None\n",
    "\n",
    "    def as_view_id(self) -> ViewId:\n",
    "        return ViewId(\n",
    "            space=self.schema_space, external_id=self.external_id, version=self.version\n",
    "        )\n",
    "\n",
    "    def as_property_ref(self, property) -> list[str]:\n",
    "        return [self.schema_space, f\"{self.external_id}/{self.version}\", property]"
   ]
  },
  {
   "cell_type": "code",
   "execution_count": null,
   "id": "8c8be2e5",
   "metadata": {},
   "outputs": [],
   "source": [
    "# Connect to cognite project\n",
    "load_dotenv()\n",
    "cdf_project=os.getenv(\"CDF_PROJECT\")\n",
    "cdf_cluster=os.getenv(\"CDF_CLUSTER\")\n",
    "client_id=os.getenv(\"IDP_CLIENT_ID\")\n",
    "client_secret=os.getenv(\"IDP_CLIENT_SECRET\")\n",
    "tenant_id=os.getenv(\"IDP_TENANT_ID\")\n",
    "\n",
    "cdf_client = create_client(cdf_project, cdf_cluster, client_id, client_secret, tenant_id)"
   ]
  },
  {
   "cell_type": "code",
   "execution_count": null,
   "id": "636971fc",
   "metadata": {},
   "outputs": [],
   "source": [
    "# Replace the value of organization with the one used in config.<env>.yaml\n",
    "organization: str = \"tx\"\n",
    "file_view_name: str = f\"{organization}File\"\n",
    "\n",
    "# Create a view class\n",
    "file_view: ViewPropertyConfig = ViewPropertyConfig(\n",
    "    schema_space=\"sp_enterprise_process_industry\",\n",
    "    external_id=file_view_name,\n",
    "    version=\"v1\",\n",
    "    instance_space=\"springfield_instances\",\n",
    ")"
   ]
  },
  {
   "cell_type": "code",
   "execution_count": null,
   "id": "a2be7abf",
   "metadata": {},
   "outputs": [],
   "source": [
    "# retrieve instances of txFile\n",
    "files: NodeList[Node] = cdf_client.data_modeling.instances.list(instance_type=\"node\", sources=file_view.as_view_id(), limit=-1)\n",
    "print(files[0])"
   ]
  },
  {
   "cell_type": "code",
   "execution_count": null,
   "id": "53227ee1",
   "metadata": {},
   "outputs": [],
   "source": [
    "# now we need to enrich the data... -> lets add detectInDiagram and toAnnotate to the tags property\n",
    "file_node_apply_list: NodeApplyList = files.as_write()\n",
    "\n",
    "for file in file_node_apply_list:\n",
    "    file.sources[0].properties[\"tags\"] = [\"ToAnnotate\", \"DetectInDiagrams\"]\n",
    "print(file_node_apply_list[0])"
   ]
  },
  {
   "cell_type": "code",
   "execution_count": null,
   "id": "55446967",
   "metadata": {},
   "outputs": [],
   "source": [
    "# Great now that we've updated the nodes' tags property, let's apply those changes\n",
    "cdf_client.data_modeling.instances.apply(\n",
    "    nodes=file_node_apply_list\n",
    ")"
   ]
  },
  {
   "cell_type": "code",
   "execution_count": null,
   "id": "701df86b",
   "metadata": {},
   "outputs": [],
   "source": [
    "# Now lets do the same with the equipment nodes in the project so that we have entities to match against\n",
    "equipment_view_name: str = f\"{organization}Equipment\"\n",
    "equipment_view: ViewPropertyConfig = ViewPropertyConfig(\n",
    "    schema_space=\"sp_enterprise_process_industry\",\n",
    "    external_id=equipment_view_name,\n",
    "    version=\"v1\",\n",
    "    instance_space=\"springfield_instances\",\n",
    ")"
   ]
  },
  {
   "cell_type": "code",
   "execution_count": null,
   "id": "9c40f234",
   "metadata": {},
   "outputs": [],
   "source": [
    "# retrieve instances of txEquipment\n",
    "equipments: NodeList[Node] = cdf_client.data_modeling.instances.list(instance_type=\"node\", sources=txEquipment_view.as_view_id(), limit=-1)\n",
    "print(equipments[0])"
   ]
  },
  {
   "cell_type": "code",
   "execution_count": null,
   "id": "969ae758",
   "metadata": {},
   "outputs": [],
   "source": [
    "equipment_node_apply_list: NodeApplyList = equipments.as_write()\n",
    "\n",
    "for equipment in equipment_node_apply_list:\n",
    "    equipment.sources[0].properties[\"tags\"] = [\"DetectInDiagrams\"]\n",
    "print(equipment_node_apply_list[0])"
   ]
  },
  {
   "cell_type": "code",
   "execution_count": null,
   "id": "01eacbe1",
   "metadata": {},
   "outputs": [],
   "source": [
    "cdf_client.data_modeling.instances.apply(equipment_node_apply_list)"
   ]
  },
  {
   "cell_type": "code",
   "execution_count": null,
   "id": "17ee6c05",
   "metadata": {},
   "outputs": [],
   "source": [
    "# In case you're interested in seeing the instances of file annotation state\n",
    "fileAnnotationState_view: ViewPropertyConfig = ViewPropertyConfig(\n",
    "    schema_space= \"sp_hdm\",\n",
    "    external_id=\"FileAnnotationState\",\n",
    "    version = \"v1.0.0\",\n",
    ")\n",
    "cdf_client.data_modeling.instances.list(sources=fileAnnotationState_view.as_view_id())"
   ]
  }
 ],
 "metadata": {
  "kernelspec": {
   "display_name": ".venv",
   "language": "python",
   "name": "python3"
  },
  "language_info": {
   "codemirror_mode": {
    "name": "ipython",
    "version": 3
   },
   "file_extension": ".py",
   "mimetype": "text/x-python",
   "name": "python",
   "nbconvert_exporter": "python",
   "pygments_lexer": "ipython3",
   "version": "3.12.9"
  }
 },
 "nbformat": 4,
 "nbformat_minor": 5
}
